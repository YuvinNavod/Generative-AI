{
  "nbformat": 4,
  "nbformat_minor": 0,
  "metadata": {
    "colab": {
      "provenance": [],
      "gpuType": "T4",
      "authorship_tag": "ABX9TyMUODJHurR4SjdgozL3h7wQ",
      "include_colab_link": true
    },
    "kernelspec": {
      "name": "python3",
      "display_name": "Python 3"
    },
    "language_info": {
      "name": "python"
    },
    "accelerator": "GPU"
  },
  "cells": [
    {
      "cell_type": "markdown",
      "metadata": {
        "id": "view-in-github",
        "colab_type": "text"
      },
      "source": [
        "<a href=\"https://colab.research.google.com/github/YuvinNavod/Generative-AI/blob/main/Llama_2_7b_hf_sentiment_analysis.ipynb\" target=\"_parent\"><img src=\"https://colab.research.google.com/assets/colab-badge.svg\" alt=\"Open In Colab\"/></a>"
      ]
    },
    {
      "cell_type": "code",
      "execution_count": null,
      "metadata": {
        "id": "TUrRmMvVtKTH"
      },
      "outputs": [],
      "source": [
        "#install necessary libraries\n",
        "!pip install transformers -q\n",
        "!pip install accelerate -q\n",
        "!pip install bitsandbytes -q\n"
      ]
    },
    {
      "cell_type": "code",
      "source": [
        "#import models\n",
        "from transformers import AutoTokenizer, AutoModelForCausalLM, pipeline"
      ],
      "metadata": {
        "id": "-hPIcMD3uCXv"
      },
      "execution_count": null,
      "outputs": []
    },
    {
      "cell_type": "code",
      "source": [
        "model_name =\"\"\n",
        "\n",
        "#load the tokenizer\n",
        "tocknizer = AutoTokenizer.from_pretrained(model_name)\n",
        "\n",
        "#load the tokenizer\n",
        "model = AutoModelForCausalLM.from_pretrained(\n",
        "    model_name,\n",
        "    device_map=\"auto\",\n",
        "    load_in_8bit=True,\n",
        "\n",
        ")"
      ],
      "metadata": {
        "id": "6Xao6ZE5vHdx"
      },
      "execution_count": null,
      "outputs": []
    },
    {
      "cell_type": "code",
      "source": [],
      "metadata": {
        "id": "vcU_D10u5sWm"
      },
      "execution_count": null,
      "outputs": []
    },
    {
      "cell_type": "code",
      "source": [
        "#initialize a text genaration pipeline using the fine tuned modeland tockenizer\n",
        "pipe= pipeline(task=\"text-generation\",model=model,tokenizer=tocknizer,max_length=200)"
      ],
      "metadata": {
        "id": "q1rBh6z5xs9P"
      },
      "execution_count": null,
      "outputs": []
    },
    {
      "cell_type": "code",
      "source": [
        "prompt = \"i like this product\"\n",
        "\n",
        "\n",
        "prompt_template = f''' [INST] <<SYS>>\n",
        "Analyze the sentiment of the following text and return either 'positive' or 'negative '\n",
        "<</SYS>>\n",
        "{prompt}[/INST]\n",
        "'''\n",
        "result = pipe(prompt_template)\n",
        "print(result[0]['generated_text'])"
      ],
      "metadata": {
        "id": "5HfUcMasy7Hx"
      },
      "execution_count": null,
      "outputs": []
    },
    {
      "cell_type": "code",
      "source": [
        "prompt = \"i am very disapointed\"\n",
        "\n",
        "\n",
        "prompt_template = f''' [INST] <<SYS>>\n",
        "Analyze the sentiment of the following text and return either 'positive' or 'negative '\n",
        "<</SYS>>\n",
        "{prompt}[/INST]\n",
        "'''\n",
        "result = pipe(prompt_template)\n",
        "print(result[0]['generated_text'])"
      ],
      "metadata": {
        "id": "6eMm1zz61wee"
      },
      "execution_count": null,
      "outputs": []
    },
    {
      "cell_type": "code",
      "source": [
        "prompt = \"hi\"\n",
        "\n",
        "\n",
        "prompt_template = f''' [INST] <<SYS>>\n",
        "Analyze the sentiment of the following text and return either 'positive' or 'negative '\n",
        "<</SYS>>\n",
        "{prompt}[/INST]\n",
        "'''\n",
        "result = pipe(prompt_template)\n",
        "print(result[0]['generated_text'])"
      ],
      "metadata": {
        "id": "JviaJJAy2FmH"
      },
      "execution_count": null,
      "outputs": []
    }
  ]
}