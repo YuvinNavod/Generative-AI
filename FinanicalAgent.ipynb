{
  "nbformat": 4,
  "nbformat_minor": 0,
  "metadata": {
    "colab": {
      "provenance": [],
      "mount_file_id": "15gS7Lld58gVAROvL4q2o4IQdGy1_Sn10",
      "authorship_tag": "ABX9TyPsf+54yzo/n+B52e0jXifp",
      "include_colab_link": true
    },
    "kernelspec": {
      "name": "python3",
      "display_name": "Python 3"
    },
    "language_info": {
      "name": "python"
    }
  },
  "cells": [
    {
      "cell_type": "markdown",
      "metadata": {
        "id": "view-in-github",
        "colab_type": "text"
      },
      "source": [
        "<a href=\"https://colab.research.google.com/github/YuvinNavod/Generative-AI/blob/main/FinanicalAgent.ipynb\" target=\"_parent\"><img src=\"https://colab.research.google.com/assets/colab-badge.svg\" alt=\"Open In Colab\"/></a>"
      ]
    },
    {
      "cell_type": "code",
      "execution_count": null,
      "metadata": {
        "id": "6iowca9wLT5v"
      },
      "outputs": [],
      "source": [
        "!pip install langchain langchain-community langchain-core langchain-groq faiss-cpu sentence-transformers docling"
      ]
    },
    {
      "cell_type": "code",
      "source": [
        "import os\n",
        "import warnings\n",
        "from docling.document_converter import DocumentConverter\n",
        "from pathlib import Path\n",
        "from langchain_text_splitters import MarkdownHeaderTextSplitter\n",
        "from langchain_community.embeddings import HuggingFaceEmbeddings\n",
        "import faiss\n",
        "from langchain_community.vectorstores import FAISS\n",
        "from langchain_community.docstore.in_memory import InMemoryDocstore\n",
        "from langchain import hub\n",
        "from langchain_core.output_parsers import StrOutputParser\n",
        "from langchain_core.runnables import RunnablePassthrough\n",
        "from langchain_core.prompts import ChatPromptTemplate\n",
        "from langchain_groq import ChatGroq\n",
        ""
      ],
      "metadata": {
        "id": "dEB9ja19MAqT"
      },
      "execution_count": null,
      "outputs": []
    },
    {
      "cell_type": "code",
      "source": [
        "# Document conversion\n",
        "def load_and_convert_document(file_path):\n",
        "    converter = DocumentConverter()\n",
        "    result = converter.convert(file_path)\n",
        "    return result.document.export_to_markdown()\n",
        "\n",
        "source = \"/content/drive/MyDrive/Colab Notebooks/Generative AI/Finance RAG/amazon-10-q-q3-2024.pdf\"\n",
        "markdown_content = load_and_convert_document(source)"
      ],
      "metadata": {
        "id": "-Qv5E75zMZlr"
      },
      "execution_count": null,
      "outputs": []
    },
    {
      "cell_type": "code",
      "source": [
        "# Splitting markdown content into chunks\n",
        "def get_markdown_splits(markdown_content):\n",
        "    headers_to_split_on = [(\"#\", \"Header 1\"), (\"##\", \"Header 2\"), (\"###\", \"Header 3\")]\n",
        "    markdown_splitter = MarkdownHeaderTextSplitter(headers_to_split_on, strip_headers=False)\n",
        "    return markdown_splitter.split_text(markdown_content)\n",
        "chunks = get_markdown_splits(markdown_content)"
      ],
      "metadata": {
        "id": "ISzWba9_MlQR"
      },
      "execution_count": null,
      "outputs": []
    },
    {
      "cell_type": "code",
      "source": [
        "# Embedding and vector store setup\n",
        "def setup_vector_store(chunks):\n",
        "    embeddings = HuggingFaceEmbeddings(model_name=\"sentence-transformers/all-MiniLM-L6-v2\")\n",
        "    single_vector = embeddings.embed_query(\"this is some text data\")\n",
        "    index = faiss.IndexFlatL2(len(single_vector))\n",
        "    vector_store = FAISS(\n",
        "        embedding_function=embeddings,\n",
        "        index=index,\n",
        "        docstore=InMemoryDocstore(),\n",
        "        index_to_docstore_id={}\n",
        "    )\n",
        "    vector_store.add_documents(documents=chunks)\n",
        "    return vector_store\n",
        "\n",
        "vector_store = setup_vector_store(chunks)\n",
        "\n",
        "# Setup retriever\n",
        "retriever = vector_store.as_retriever(search_type=\"mmr\", search_kwargs={'k': 3})"
      ],
      "metadata": {
        "id": "s6PSe77oMueS"
      },
      "execution_count": null,
      "outputs": []
    },
    {
      "cell_type": "code",
      "source": [
        "# Formatting documents for RAG\n",
        "def format_docs(docs):\n",
        "    return \"\\n\\n\".join([doc.page_content for doc in docs])"
      ],
      "metadata": {
        "id": "G6HVaRA8M9gj"
      },
      "execution_count": null,
      "outputs": []
    },
    {
      "cell_type": "code",
      "source": [
        "\n",
        "# Setting up the RAG chain\n",
        "def create_rag_chain(retriever):\n",
        "    prompt = \"\"\"\n",
        "        You are an assistant for question-answering tasks. Use the following pieces of retrieved context to answer the question.\n",
        "        If you don't know the answer, just say that you don't know.\n",
        "        Answer in bullet points. Make sure your answer is relevant to the question and it is answered from the context only.\n",
        "        Question: {question}\n",
        "        Context: {context}\n",
        "        Answer:\n",
        "    \"\"\"\n",
        "    model = ChatGroq(model_name=\"llama3-8b-8192\", api_key = \"\")  # ✅ Choose a Groq-supported model\n",
        "    prompt_template = ChatPromptTemplate.from_template(prompt)\n",
        "    return (\n",
        "        {\"context\": retriever | format_docs, \"question\": RunnablePassthrough()}\n",
        "        | prompt_template\n",
        "        | model\n",
        "        | StrOutputParser()\n",
        "    )"
      ],
      "metadata": {
        "id": "hZEvwYiPNB3b"
      },
      "execution_count": null,
      "outputs": []
    },
    {
      "cell_type": "code",
      "source": [
        "# Create RAG chain\n",
        "rag_chain = create_rag_chain(retriever)\n",
        "\n",
        "questions = [\n",
        "    \"What was Amazon’s total revenue in Q3 2024?\",\n",
        "    \"How does the revenue in Q3 2024 compare to Q3 2023?\",\n",
        "    \"What was the net income for Q3 2024, and how does it compare year over year?\",\n",
        "    \"What were the earnings per share (basic and diluted) in Q3 2024?\",\n",
        "    \"How much did Amazon earn from product vs. service sales?\",\n",
        "    \"What were the main operating expense categories and their values in Q3 2024?\",\n",
        "    \"What was Amazon’s operating income in Q3 2024?\",\n",
        "    ]\n",
        "\n",
        "\n",
        "for question in questions:\n",
        "      print(f\"Question: {question}\")\n",
        "      for chunk in rag_chain.stream(question):\n",
        "          print(chunk, end=\"\", flush=True)\n",
        "      print(\"\\n\" + \"-\" * 50 + \"\\n\")"
      ],
      "metadata": {
        "id": "tfjNu4UsNN3U"
      },
      "execution_count": null,
      "outputs": []
    },
    {
      "cell_type": "code",
      "source": [
        "\n",
        "# Main execution logic\n",
        "if __name__ == \"__main__\":\n",
        "    # Load document\n",
        "    source = \"/content/drive/MyDrive/Colab Notebooks/Generative AI/Finance RAG/amazon-10-q-q3-2024.pdf\"\n",
        "    markdown_content = load_and_convert_document(source)\n",
        "    chunks = get_markdown_splits(markdown_content)\n",
        "\n",
        "    # Create vector store\n",
        "    vector_store = setup_vector_store(chunks)\n",
        "\n",
        "    # Setup retriever\n",
        "    retriever = vector_store.as_retriever(search_type=\"mmr\", search_kwargs={'k': 3})\n",
        "\n",
        "    # Create RAG chain\n",
        "    rag_chain = create_rag_chain(retriever)\n",
        "\n",
        "    # Questions for retrieval\n",
        "    # Questions for retrieval (Amazon-specific)\n",
        "    questions = [\n",
        "    # Financial Performance\n",
        "    \"What was Amazon’s total revenue in Q3 2024?\",\n",
        "    \"How does the revenue in Q3 2024 compare to Q3 2023?\",\n",
        "    \"What was the net income for Q3 2024, and how does it compare year over year?\",\n",
        "    \"What were the earnings per share (basic and diluted) in Q3 2024?\",\n",
        "    \"How much did Amazon earn from product vs. service sales?\",\n",
        "    \"What were the main operating expense categories and their values in Q3 2024?\",\n",
        "    \"What was Amazon’s operating income in Q3 2024?\",\n",
        "    ]\n",
        "\n",
        "\n",
        "\n",
        "    # Answer questions\n",
        "    for question in questions:\n",
        "        print(f\"Question: {question}\")\n",
        "        for chunk in rag_chain.stream(question):\n",
        "            print(chunk, end=\"\", flush=True)\n",
        "        print(\"\\n\" + \"-\" * 50 + \"\\n\")"
      ],
      "metadata": {
        "id": "G1MvJ8BfNxkD"
      },
      "execution_count": null,
      "outputs": []
    },
    {
      "cell_type": "code",
      "source": [
        "import gradio as gr\n",
        "\n",
        "# Global variable to store vector store and RAG chain after file upload\n",
        "vector_store = None\n",
        "rag_chain = None\n",
        "\n",
        "def upload_and_process(file):\n",
        "    global vector_store, rag_chain\n",
        "    file_path = file.name\n",
        "    markdown_content = load_and_convert_document(file_path)\n",
        "    chunks = get_markdown_splits(markdown_content)\n",
        "    vector_store = setup_vector_store(chunks)\n",
        "    retriever = vector_store.as_retriever(search_type=\"mmr\", search_kwargs={'k': 3})\n",
        "    rag_chain = create_rag_chain(retriever)\n",
        "    return \"✅ Document processed and RAG chain created. You can now ask questions.\"\n",
        "\n",
        "def ask_question(question):\n",
        "    if rag_chain is None:\n",
        "        return \"❌ Please upload and process a document first.\"\n",
        "    response = \"\"\n",
        "    for chunk in rag_chain.stream(question):\n",
        "        response += chunk\n",
        "    return response\n",
        "\n",
        "# Launch Gradio interface\n",
        "with gr.Blocks() as demo:\n",
        "    gr.Markdown(\"## 📊 Amazon 10-Q RAG-Based QA System using Groq + FAISS\")\n",
        "\n",
        "    with gr.Row():\n",
        "        with gr.Column():\n",
        "            file_input = gr.File(label=\"📁 Upload Amazon 10-Q PDF\", file_types=[\".pdf\"])\n",
        "            upload_btn = gr.Button(\"🔄 Upload & Process\")\n",
        "            upload_output = gr.Textbox(label=\"Processing Status\", lines=2)\n",
        "\n",
        "        with gr.Column():\n",
        "            question_input = gr.Textbox(label=\"❓ Ask a Question\", placeholder=\"e.g. What was Amazon’s total revenue in Q3 2024?\")\n",
        "            ask_btn = gr.Button(\"🔍 Get Answer\")\n",
        "            answer_output = gr.Textbox(label=\"📢 Answer\", lines=10)\n",
        "\n",
        "    upload_btn.click(fn=upload_and_process, inputs=[file_input], outputs=[upload_output])\n",
        "    ask_btn.click(fn=ask_question, inputs=[question_input], outputs=[answer_output])\n",
        "\n",
        "demo.launch()\n",
        "\n",
        ""
      ],
      "metadata": {
        "id": "0Z2xSGAvN7SF"
      },
      "execution_count": null,
      "outputs": []
    },
    {
      "cell_type": "code",
      "source": [
        "\n",
        "# Main execution logic\n",
        "if __name__ == \"__main__\":\n",
        "    # Load document\n",
        "    source = \"/content/drive/MyDrive/Colab Notebooks/Generative AI/Finance RAG/amazon-10-q-q3-2024.pdf\"\n",
        "    markdown_content = load_and_convert_document(source)\n",
        "    chunks = get_markdown_splits(markdown_content)\n",
        "\n",
        "    # Create vector store\n",
        "    vector_store = setup_vector_store(chunks)\n",
        "\n",
        "    # Setup retriever\n",
        "    retriever = vector_store.as_retriever(search_type=\"mmr\", search_kwargs={'k': 3})\n",
        "\n",
        "    # Create RAG chain\n",
        "    rag_chain = create_rag_chain(retriever)\n",
        "\n",
        "    # Questions for retrieval\n",
        "    # Questions for retrieval (Amazon-specific)\n",
        "    questions = [\n",
        "    # Financial Performance\n",
        "    \"What was Amazon’s total revenue in Q3 2024?\",\n",
        "    \"How does the revenue in Q3 2024 compare to Q3 2023?\",\n",
        "    \"What was the net income for Q3 2024, and how does it compare year over year?\",\n",
        "    \"What were the earnings per share (basic and diluted) in Q3 2024?\",\n",
        "    \"How much did Amazon earn from product vs. service sales?\",\n",
        "    \"What were the main operating expense categories and their values in Q3 2024?\",\n",
        "    \"What was Amazon’s operating income in Q3 2024?\",\n",
        "\n",
        "    # Segment Analysis\n",
        "    \"What was the revenue and operating income for Amazon Web Services (AWS) in Q3 2024?\",\n",
        "    \"How did the North America and International segments perform in terms of revenue and profit?\",\n",
        "    \"Which segment contributed the most to Amazon’s operating income?\",\n",
        "\n",
        "    # Cash Flow & Capital Expenditures\n",
        "    \"How much cash did Amazon generate from operating activities?\",\n",
        "    \"What were the major uses of cash in investing and financing activities?\",\n",
        "    \"What were Amazon’s capital expenditures in Q3 2024?\",\n",
        "\n",
        "    # Debt and Liabilities\n",
        "    \"What is Amazon’s total long-term debt as of September 30, 2024?\",\n",
        "    \"What are the upcoming debt maturities and interest rates for Amazon's outstanding bonds?\",\n",
        "\n",
        "    # Stock & Shareholder Equity\n",
        "    \"What were the changes in stockholders’ equity this quarter?\",\n",
        "    \"Did Amazon repurchase any stock in Q3 2024?\",\n",
        "\n",
        "    # Other Financial Indicators\n",
        "    \"What are the values of accounts receivable, inventories, and marketable securities as of September 30, 2024?\",\n",
        "    \"What were Amazon’s total assets and liabilities?\",\n",
        "\n",
        "    # Legal and Regulatory\n",
        "    \"What major legal proceedings or lawsuits was Amazon involved in during Q3 2024?\",\n",
        "    \"What was the outcome of the Kove IO patent case?\",\n",
        "    \"Are there any significant antitrust or consumer protection investigations ongoing?\",\n",
        "\n",
        "    # Taxation and Accounting\n",
        "    \"What is Amazon’s effective tax rate for Q3 2024?\",\n",
        "    \"What discrete tax items impacted Amazon’s tax expense?\",\n",
        "    \"Are there any significant tax disputes or contingencies noted?\",\n",
        "\n",
        "    # Revenue Breakdown\n",
        "    \"What was the revenue breakdown by business line (Online stores, AWS, advertising, etc.)?\",\n",
        "    \"How did subscription services and advertising revenue perform compared to last year?\"\n",
        "]\n",
        "\n",
        "\n",
        "\n",
        "    # Answer questions\n",
        "    for question in questions:\n",
        "        print(f\"Question: {question}\")\n",
        "        for chunk in rag_chain.stream(question):\n",
        "            print(chunk, end=\"\", flush=True)\n",
        "        print(\"\\n\" + \"-\" * 50 + \"\\n\")\n"
      ],
      "metadata": {
        "id": "TQ--XRjzODjT"
      },
      "execution_count": null,
      "outputs": []
    }
  ]
}